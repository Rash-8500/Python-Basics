{
  "nbformat": 4,
  "nbformat_minor": 0,
  "metadata": {
    "colab": {
      "provenance": []
    },
    "kernelspec": {
      "name": "python3",
      "display_name": "Python 3"
    },
    "language_info": {
      "name": "python"
    }
  },
  "cells": [
    {
      "cell_type": "code",
      "source": [
        "#Name- Rashmi Gupta\n",
        "#Email- rashmiguptag1996@gmail.com\n",
        "#Assignment Email- Python Basics\n"
      ],
      "metadata": {
        "id": "aAxzb3SYJ1Kv"
      },
      "execution_count": null,
      "outputs": []
    },
    {
      "cell_type": "code",
      "execution_count": null,
      "metadata": {
        "id": "2QsGJqS00WSN"
      },
      "outputs": [],
      "source": [
        "# 1.Write a Python program to print \"Hello, World!"
      ]
    },
    {
      "cell_type": "code",
      "source": [
        "print(\"Hello World!!\")"
      ],
      "metadata": {
        "colab": {
          "base_uri": "https://localhost:8080/"
        },
        "id": "UgpZ32xT0r8K",
        "outputId": "055f0ef1-bee2-4ad7-8221-7bf24dfb929d"
      },
      "execution_count": null,
      "outputs": [
        {
          "output_type": "stream",
          "name": "stdout",
          "text": [
            "Hello World!!\n"
          ]
        }
      ]
    },
    {
      "cell_type": "code",
      "source": [
        "# 2.Write a Python program that displays your name and age."
      ],
      "metadata": {
        "id": "qquFlDrd08oK"
      },
      "execution_count": null,
      "outputs": []
    },
    {
      "cell_type": "code",
      "source": [
        "name = \"Rashmi Gupta\"\n",
        "age = 25\n",
        "print(\"Name:\", name)\n",
        "print(\"Age:\", age)\n"
      ],
      "metadata": {
        "colab": {
          "base_uri": "https://localhost:8080/"
        },
        "id": "4qAkfiKk1Gwg",
        "outputId": "70e8940e-212c-4d42-b907-e65e44bb19ac"
      },
      "execution_count": null,
      "outputs": [
        {
          "output_type": "stream",
          "name": "stdout",
          "text": [
            "Name: Rashmi Gupta\n",
            "Age: 25\n"
          ]
        }
      ]
    },
    {
      "cell_type": "code",
      "source": [
        "# 3.\tWrite code to print all the pre-defined keywords in Python using the keyword library."
      ],
      "metadata": {
        "id": "8GBESxkh1LKh"
      },
      "execution_count": null,
      "outputs": []
    },
    {
      "cell_type": "code",
      "source": [
        "help('keywords')"
      ],
      "metadata": {
        "colab": {
          "base_uri": "https://localhost:8080/"
        },
        "id": "oLmyL-RD1QjI",
        "outputId": "32de182b-cfeb-41dd-8e0e-aed1a415d8c3"
      },
      "execution_count": null,
      "outputs": [
        {
          "output_type": "stream",
          "name": "stdout",
          "text": [
            "\n",
            "Here is a list of the Python keywords.  Enter any keyword to get more help.\n",
            "\n",
            "False               class               from                or\n",
            "None                continue            global              pass\n",
            "True                def                 if                  raise\n",
            "and                 del                 import              return\n",
            "as                  elif                in                  try\n",
            "assert              else                is                  while\n",
            "async               except              lambda              with\n",
            "await               finally             nonlocal            yield\n",
            "break               for                 not                 \n",
            "\n"
          ]
        }
      ]
    },
    {
      "cell_type": "code",
      "source": [
        "# 4.\tWrite a program that checks if a given word is a Python keyword."
      ],
      "metadata": {
        "id": "EDyHoyQm1YwN"
      },
      "execution_count": null,
      "outputs": []
    },
    {
      "cell_type": "code",
      "source": [],
      "metadata": {
        "id": "g10iHDF24aSa"
      },
      "execution_count": null,
      "outputs": []
    },
    {
      "cell_type": "code",
      "source": [
        "# 5.\tCreate a list and tuple in Python, and demonstrate how attempting to change an element works differently for each"
      ],
      "metadata": {
        "id": "cwX5nEr74arG"
      },
      "execution_count": null,
      "outputs": []
    },
    {
      "cell_type": "code",
      "source": [
        "list_cont = [1, 2, 3, \"pwskils\"]\n",
        "list_cont\n"
      ],
      "metadata": {
        "colab": {
          "base_uri": "https://localhost:8080/"
        },
        "id": "VVKXDZ_84fXc",
        "outputId": "1740b96c-dc3f-4e05-fb3c-fd14c1cf632c"
      },
      "execution_count": null,
      "outputs": [
        {
          "output_type": "execute_result",
          "data": {
            "text/plain": [
              "[1, 2, 3, 'pwskils']"
            ]
          },
          "metadata": {},
          "execution_count": 17
        }
      ]
    },
    {
      "cell_type": "code",
      "source": [
        "#For mutate-\n",
        "list_cont[1] = \"happy\"\n",
        "list_cont"
      ],
      "metadata": {
        "colab": {
          "base_uri": "https://localhost:8080/"
        },
        "id": "XffXsWJG4oiF",
        "outputId": "0c72cbcd-31cf-46cb-95e0-ff0d93b0c232"
      },
      "execution_count": null,
      "outputs": [
        {
          "output_type": "execute_result",
          "data": {
            "text/plain": [
              "[1, 'happy', 3, 'pwskils']"
            ]
          },
          "metadata": {},
          "execution_count": 18
        }
      ]
    },
    {
      "cell_type": "code",
      "source": [
        "#For tuple it is immutable\n",
        "#TypeError: 'tuple' object does not support item assignment\n",
        "list_cont = (1, 2, 3, \"pwskils\")\n",
        "list_cont\n"
      ],
      "metadata": {
        "colab": {
          "base_uri": "https://localhost:8080/"
        },
        "id": "OLVOyhH84vkm",
        "outputId": "e7294996-756a-4e15-e680-404060ac6657"
      },
      "execution_count": null,
      "outputs": [
        {
          "output_type": "execute_result",
          "data": {
            "text/plain": [
              "(1, 2, 3, 'pwskils')"
            ]
          },
          "metadata": {},
          "execution_count": 20
        }
      ]
    },
    {
      "cell_type": "code",
      "source": [
        "#And if want to change or mutate it will not change and give error\n",
        "list_cont[1] = \"happy\"\n",
        "list_cont\n"
      ],
      "metadata": {
        "colab": {
          "base_uri": "https://localhost:8080/",
          "height": 176
        },
        "id": "Pw9X_MIh41EH",
        "outputId": "23a9be30-ba4e-48e5-96db-99030f4b2fc6"
      },
      "execution_count": null,
      "outputs": [
        {
          "output_type": "error",
          "ename": "TypeError",
          "evalue": "'tuple' object does not support item assignment",
          "traceback": [
            "\u001b[0;31m---------------------------------------------------------------------------\u001b[0m",
            "\u001b[0;31mTypeError\u001b[0m                                 Traceback (most recent call last)",
            "\u001b[0;32m/tmp/ipython-input-21-3264343279.py\u001b[0m in \u001b[0;36m<cell line: 0>\u001b[0;34m()\u001b[0m\n\u001b[1;32m      1\u001b[0m \u001b[0;31m#And if want to change or mutate it will not change and give error\u001b[0m\u001b[0;34m\u001b[0m\u001b[0;34m\u001b[0m\u001b[0m\n\u001b[0;32m----> 2\u001b[0;31m \u001b[0mlist_cont\u001b[0m\u001b[0;34m[\u001b[0m\u001b[0;36m1\u001b[0m\u001b[0;34m]\u001b[0m \u001b[0;34m=\u001b[0m \u001b[0;34m\"happy\"\u001b[0m\u001b[0;34m\u001b[0m\u001b[0;34m\u001b[0m\u001b[0m\n\u001b[0m\u001b[1;32m      3\u001b[0m \u001b[0mlist_cont\u001b[0m\u001b[0;34m\u001b[0m\u001b[0;34m\u001b[0m\u001b[0m\n",
            "\u001b[0;31mTypeError\u001b[0m: 'tuple' object does not support item assignment"
          ]
        }
      ]
    },
    {
      "cell_type": "code",
      "source": [
        "# 6.\tWrite a function to demonstrate the behavior of mutable and immutable arguments.\n",
        "#Ans= Function can be demonstrated as list is a mutable object but string is an immutable object\n",
        "#List- Mutable\n",
        "list_cont = [\"red\", \"blue\", \"green\"]\n",
        "list_cont\n"
      ],
      "metadata": {
        "colab": {
          "base_uri": "https://localhost:8080/"
        },
        "id": "e0Okh7er5J6B",
        "outputId": "27561e32-1b3b-4300-f14e-c00a524dd2ee"
      },
      "execution_count": null,
      "outputs": [
        {
          "output_type": "execute_result",
          "data": {
            "text/plain": [
              "['red', 'blue', 'green']"
            ]
          },
          "metadata": {},
          "execution_count": 23
        }
      ]
    },
    {
      "cell_type": "markdown",
      "source": [],
      "metadata": {
        "id": "pp9BdEl55QFl"
      }
    },
    {
      "cell_type": "code",
      "source": [
        "#to mutate-\n",
        "list_cont[1] = \"orange\"\n",
        "list_cont\n",
        "\n"
      ],
      "metadata": {
        "colab": {
          "base_uri": "https://localhost:8080/"
        },
        "id": "Rg_bhuOK5Pvd",
        "outputId": "5bed0ee8-461d-4f37-8a10-b350f987c01e"
      },
      "execution_count": null,
      "outputs": [
        {
          "output_type": "execute_result",
          "data": {
            "text/plain": [
              "['red', 'orange', 'green']"
            ]
          },
          "metadata": {},
          "execution_count": 24
        }
      ]
    },
    {
      "cell_type": "code",
      "source": [
        "#So list are mutable-\n",
        "#But when it comes to string, they are immutable-\n",
        "#Example=\n",
        "b = \"pwskill\"\n",
        "b[1]\n",
        "\n"
      ],
      "metadata": {
        "colab": {
          "base_uri": "https://localhost:8080/",
          "height": 36
        },
        "id": "rI4Zvgxw5PJ_",
        "outputId": "e5b6a3b3-5ba0-4820-b81e-ad209b69ed45"
      },
      "execution_count": null,
      "outputs": [
        {
          "output_type": "execute_result",
          "data": {
            "text/plain": [
              "'w'"
            ],
            "application/vnd.google.colaboratory.intrinsic+json": {
              "type": "string"
            }
          },
          "metadata": {},
          "execution_count": 26
        }
      ]
    },
    {
      "cell_type": "code",
      "source": [
        "#Non mutable-\n",
        "#will show- TypeError: 'str' object does not support item assignment\n",
        "b[1] = \"x\"\n",
        "#In this way mutability and Immutability works."
      ],
      "metadata": {
        "colab": {
          "base_uri": "https://localhost:8080/",
          "height": 176
        },
        "id": "AUzxtUXq5khK",
        "outputId": "b260e20b-3746-4af6-ae21-73adbde3d5b7"
      },
      "execution_count": null,
      "outputs": [
        {
          "output_type": "error",
          "ename": "TypeError",
          "evalue": "'str' object does not support item assignment",
          "traceback": [
            "\u001b[0;31m---------------------------------------------------------------------------\u001b[0m",
            "\u001b[0;31mTypeError\u001b[0m                                 Traceback (most recent call last)",
            "\u001b[0;32m/tmp/ipython-input-28-2172910095.py\u001b[0m in \u001b[0;36m<cell line: 0>\u001b[0;34m()\u001b[0m\n\u001b[1;32m      1\u001b[0m \u001b[0;31m#Non mutable-\u001b[0m\u001b[0;34m\u001b[0m\u001b[0;34m\u001b[0m\u001b[0m\n\u001b[1;32m      2\u001b[0m \u001b[0;31m#will show- TypeError: 'str' object does not support item assignment\u001b[0m\u001b[0;34m\u001b[0m\u001b[0;34m\u001b[0m\u001b[0m\n\u001b[0;32m----> 3\u001b[0;31m \u001b[0mb\u001b[0m\u001b[0;34m[\u001b[0m\u001b[0;36m1\u001b[0m\u001b[0;34m]\u001b[0m \u001b[0;34m=\u001b[0m \u001b[0;34m\"x\"\u001b[0m\u001b[0;34m\u001b[0m\u001b[0;34m\u001b[0m\u001b[0m\n\u001b[0m",
            "\u001b[0;31mTypeError\u001b[0m: 'str' object does not support item assignment"
          ]
        }
      ]
    },
    {
      "cell_type": "code",
      "source": [
        "# 7.\tWrite a program that performs basic arithmetic operations on two user-input numbers.\n",
        "a = 2\n",
        "b = 5\n",
        "a + b\n",
        "#OR\n",
        "add = a+b"
      ],
      "metadata": {
        "colab": {
          "base_uri": "https://localhost:8080/"
        },
        "id": "592Ts8eH5vQ4",
        "outputId": "d00f6eb9-b30e-4c8a-8190-ad2c2490633d"
      },
      "execution_count": null,
      "outputs": [
        {
          "output_type": "execute_result",
          "data": {
            "text/plain": [
              "7"
            ]
          },
          "metadata": {},
          "execution_count": 29
        }
      ]
    },
    {
      "cell_type": "code",
      "source": [
        "# 8.\tWrite a program to demonstrate the use of logical operators?\n",
        "#Ans= there are 2 types of logical operators- “and” and “or”\n",
        "#“and” operator-\n",
        "a = True\n",
        "b = False\n",
        "a and b\n",
        "\n"
      ],
      "metadata": {
        "colab": {
          "base_uri": "https://localhost:8080/"
        },
        "id": "xlad2A9x6Il7",
        "outputId": "fffdf69b-993c-4ab3-c1a2-4c7771c35509"
      },
      "execution_count": null,
      "outputs": [
        {
          "output_type": "execute_result",
          "data": {
            "text/plain": [
              "False"
            ]
          },
          "metadata": {},
          "execution_count": 30
        }
      ]
    },
    {
      "cell_type": "code",
      "source": [
        "#“or” operator\n",
        "a = True\n",
        "b = False\n",
        "a or b\n"
      ],
      "metadata": {
        "colab": {
          "base_uri": "https://localhost:8080/"
        },
        "id": "DFn4fh286Uo8",
        "outputId": "ebca287c-b726-4df1-ff04-9e90801f28bc"
      },
      "execution_count": null,
      "outputs": [
        {
          "output_type": "execute_result",
          "data": {
            "text/plain": [
              "True"
            ]
          },
          "metadata": {},
          "execution_count": 31
        }
      ]
    },
    {
      "cell_type": "code",
      "source": [
        "# 9. Write a Python program to convert user input from string to integer, float, and boolean types.\n",
        "##String to integer"
      ],
      "metadata": {
        "id": "SIeWKloIENuS"
      },
      "execution_count": null,
      "outputs": []
    },
    {
      "cell_type": "code",
      "source": [
        "a = 2\n",
        "print(type(a))\n",
        "print(type(int(a)))\n"
      ],
      "metadata": {
        "colab": {
          "base_uri": "https://localhost:8080/"
        },
        "id": "tFxDxqapEcFx",
        "outputId": "18093045-f18f-4d53-f05d-965e792a762a"
      },
      "execution_count": null,
      "outputs": [
        {
          "output_type": "stream",
          "name": "stdout",
          "text": [
            "<class 'int'>\n",
            "<class 'int'>\n"
          ]
        }
      ]
    },
    {
      "cell_type": "code",
      "source": [
        "#(converted from String to float)\n",
        "a =  3.3\n",
        "b = float(a)\n",
        "type(b)\n"
      ],
      "metadata": {
        "colab": {
          "base_uri": "https://localhost:8080/"
        },
        "id": "VCMfxoopE8Eq",
        "outputId": "b3d8bf94-7672-434d-e0b5-443ac7a5ba47"
      },
      "execution_count": null,
      "outputs": [
        {
          "output_type": "execute_result",
          "data": {
            "text/plain": [
              "float"
            ]
          },
          "metadata": {},
          "execution_count": 37
        }
      ]
    },
    {
      "cell_type": "code",
      "source": [
        "#(only empty string give false)\n",
        "bool(\"pwskills\")"
      ],
      "metadata": {
        "colab": {
          "base_uri": "https://localhost:8080/"
        },
        "id": "9ChWZm3qFfQR",
        "outputId": "9deeb5c1-f10f-4b90-b7ee-4dcfdc5e85ad"
      },
      "execution_count": null,
      "outputs": [
        {
          "output_type": "execute_result",
          "data": {
            "text/plain": [
              "True"
            ]
          },
          "metadata": {},
          "execution_count": 40
        }
      ]
    },
    {
      "cell_type": "code",
      "source": [
        "#10.\tWrite code to demonstrate type casting with list elements."
      ],
      "metadata": {
        "id": "3pH_Vvb4F8DC"
      },
      "execution_count": null,
      "outputs": []
    },
    {
      "cell_type": "code",
      "source": [
        "list_cont = ['1', '2', '3']\n",
        "type(list_cont)\n",
        "list"
      ],
      "metadata": {
        "colab": {
          "base_uri": "https://localhost:8080/"
        },
        "id": "DhLcYylsGFCO",
        "outputId": "486cb789-097e-46e3-c8cd-7bd403633ecd"
      },
      "execution_count": null,
      "outputs": [
        {
          "output_type": "execute_result",
          "data": {
            "text/plain": [
              "list"
            ]
          },
          "metadata": {},
          "execution_count": 42
        }
      ]
    },
    {
      "cell_type": "code",
      "source": [
        "type(list_cont[1])"
      ],
      "metadata": {
        "colab": {
          "base_uri": "https://localhost:8080/"
        },
        "id": "pU9c6H7pGMOv",
        "outputId": "c245a8a8-55e3-47ba-fb06-2e00e4057e50"
      },
      "execution_count": null,
      "outputs": [
        {
          "output_type": "execute_result",
          "data": {
            "text/plain": [
              "str"
            ]
          },
          "metadata": {},
          "execution_count": 43
        }
      ]
    },
    {
      "cell_type": "code",
      "source": [
        "#float (type casted the string to float in list)\n",
        "list_cont = ['1', '2', '3']\n",
        "list_cont[1] = float(\"1\")\n",
        "list_cont"
      ],
      "metadata": {
        "colab": {
          "base_uri": "https://localhost:8080/"
        },
        "id": "JBAwSwzdHZjD",
        "outputId": "e034e6bf-b3ff-499c-9af0-0f2e5029a74a"
      },
      "execution_count": null,
      "outputs": [
        {
          "output_type": "execute_result",
          "data": {
            "text/plain": [
              "['1', 1.0, '3']"
            ]
          },
          "metadata": {},
          "execution_count": 55
        }
      ]
    },
    {
      "cell_type": "code",
      "source": [
        "#11.\tWrite a program that checks if a number is positive, negative, or zero.\n",
        "number = -3\n",
        "if number > 0:\n",
        "  print(\"positive\")\n",
        "elif number < 0:\n",
        "  print(\"negative\")\n",
        "else:\n",
        "  print(\"zero\")\n",
        "#“negative” (Same way it will reflect from positive and zero)"
      ],
      "metadata": {
        "colab": {
          "base_uri": "https://localhost:8080/"
        },
        "id": "wqOAS3Q-IUb9",
        "outputId": "59100ccd-978e-4f37-9e4d-a17fa4526e37"
      },
      "execution_count": null,
      "outputs": [
        {
          "output_type": "stream",
          "name": "stdout",
          "text": [
            "negative\n"
          ]
        }
      ]
    },
    {
      "cell_type": "code",
      "source": [
        "#12.\tWrite a for loop to print numbers from 1 to 10.\n",
        "n = 10\n",
        "i = 1\n",
        "while i <= n:\n",
        "  print(i)\n",
        "  i = i+1\n"
      ],
      "metadata": {
        "colab": {
          "base_uri": "https://localhost:8080/"
        },
        "id": "UVPei4Z9J3zp",
        "outputId": "4ff205fb-b946-4472-b34e-6ec42fe15550"
      },
      "execution_count": null,
      "outputs": [
        {
          "output_type": "stream",
          "name": "stdout",
          "text": [
            "1\n",
            "2\n",
            "3\n",
            "4\n",
            "5\n",
            "6\n",
            "7\n",
            "8\n",
            "9\n",
            "10\n"
          ]
        }
      ]
    },
    {
      "cell_type": "code",
      "source": [
        "#13.Write a Python program to find the sum of all even numbers between 1 and 50"
      ],
      "metadata": {
        "id": "gqOmDTXAKBXU"
      },
      "execution_count": null,
      "outputs": []
    },
    {
      "cell_type": "code",
      "source": [
        "sum = 0\n",
        "for i in range(1,51):\n",
        "  if i % 2 == 0:\n",
        "    sum = sum + i\n",
        "print(sum)\n"
      ],
      "metadata": {
        "colab": {
          "base_uri": "https://localhost:8080/"
        },
        "id": "Ov_JIbuZKFjg",
        "outputId": "8003e760-a813-48bf-a0b7-a26239670b94"
      },
      "execution_count": null,
      "outputs": [
        {
          "output_type": "stream",
          "name": "stdout",
          "text": [
            "650\n"
          ]
        }
      ]
    },
    {
      "cell_type": "code",
      "source": [
        "#14.\tWrite a program to reverse a string using a while loop.\n",
        "name = \"Rashmi\"\n",
        "rn= \" \"\n",
        "i=len(name)-1\n",
        "while i>=0:\n",
        "  rn=rn+name[i]\n",
        "  i=i-1\n",
        "print(rn)\n"
      ],
      "metadata": {
        "colab": {
          "base_uri": "https://localhost:8080/"
        },
        "id": "hvK7je-nKMeF",
        "outputId": "d20ca0c3-fe13-4e8b-c999-db0594f2a0ee"
      },
      "execution_count": null,
      "outputs": [
        {
          "output_type": "stream",
          "name": "stdout",
          "text": [
            " imhsaR\n"
          ]
        }
      ]
    },
    {
      "cell_type": "code",
      "source": [
        "#15.\tWrite a Python program to calculate the factorial of a number provided by the user using a while loop.\n",
        "fact = 5\n",
        "a = 1\n",
        "x = 1\n",
        "while a<=fact:\n",
        "    x = x*a\n",
        "    a = a+1\n",
        "print(x)\n"
      ],
      "metadata": {
        "id": "hN8Zy6U5K8WQ",
        "outputId": "e7cce239-13fe-4a7c-d7a7-321570532c62",
        "colab": {
          "base_uri": "https://localhost:8080/"
        }
      },
      "execution_count": null,
      "outputs": [
        {
          "output_type": "stream",
          "name": "stdout",
          "text": [
            "120\n"
          ]
        }
      ]
    },
    {
      "cell_type": "code",
      "source": [
        "#BELOW ARE THE PRATICAL QUESTIOS"
      ],
      "metadata": {
        "id": "uNkpwtNMHpWX"
      },
      "execution_count": null,
      "outputs": []
    },
    {
      "cell_type": "code",
      "source": [
        "#1.\tWhat is Python, and why is it popular?\n",
        "#Ans= Python is a programming language that use to write code in simple syntax. Python is an interpreted language, and the code is run in line by line. It is a way of communication with system to provide instructions It is easy for beginners to learn and experiment with. Python is also popular as it is easy to access, simple, good ecosystem of library like Pands, Numpy, Matplotlay, ACborn. It is also free and open source and has big community of well learned people. There are various Python IDE like Pycharm, VS Code, Juypter Notebook."
      ],
      "metadata": {
        "id": "dr148ulfFaek"
      },
      "execution_count": null,
      "outputs": []
    },
    {
      "cell_type": "code",
      "source": [
        "#2.\tWhat is an interpreter in Python?\n",
        "#Ans=  Python is called an interpreted language because it executes code directly, without requiring a separate compilation step before running. A Python interpreter is a program that runs a Python code, line by line into machine code. It's essentially a tool that reads, interprets, and runs Python programs. Types of Python Interpreters- CPython, PyPy, Jython, IronPython. Different IDEs like VS Code, PyCharm,Colab or Jupyter Notebooks all are used as an interpreter.\n"
      ],
      "metadata": {
        "id": "NlnLjq_NFq1f"
      },
      "execution_count": null,
      "outputs": []
    },
    {
      "cell_type": "code",
      "source": [
        "#3.\tWhat are pre-defined keywords in Python?\n",
        "#Ans= There are some predefined keywords are reserved in Python that have special meanings and cannot be used as identifiers (variable names, function names, etc.). Examples of keywords include if, else, while, for, def, class, import, try, except, return, True, False, None, etc. Keywords are case-sensitive and cannot be redefined or overridden within a Python program. They are defined in different groups like for Conditional Statements(if, if-else, if-elif-else), Loops (for, while), Control Statements (break, continue), Boolean (True, False).\n"
      ],
      "metadata": {
        "id": "sPF42OIHFw7f"
      },
      "execution_count": null,
      "outputs": []
    },
    {
      "cell_type": "code",
      "source": [
        "#4.\tCan keywords be used as variable name?\n",
        "#Ans= No, keywords cannot be used as variable names. Keywords are reserved words in a python that have predefined meanings used to define structure. Using a keyword as variable names will generate an error and code will not run. In Python, objects can be either changeable (modifiable) or unchangeable (unchangeable).\n"
      ],
      "metadata": {
        "id": "i6OeBswEF9f8"
      },
      "execution_count": null,
      "outputs": []
    },
    {
      "cell_type": "code",
      "source": [
        "#5.\tWhat is mutability in Python?\n",
        "#Ans= Mutability in Python means the ability of an object to be modified after it has been created. Mutable objects, such as lists and dictionaries, can be modified after creation, while immutable objects, such as tuples and strings, cannot be modified. Mutability affects how objects are stored and manipulated in memory, impacting performance, memory usage, and concurrency in Python programs.\n"
      ],
      "metadata": {
        "id": "xmCNU5_-GDUN"
      },
      "execution_count": null,
      "outputs": []
    },
    {
      "cell_type": "code",
      "source": [
        "#6.\tWhy are lists mutable, but tuples are immutable?\n",
        "#Ans= Tuples use parentheses in place of square brackets and the items in tuples cannot be modified and they cannot be changed. But lists are mutable and the item in it can be changed. Tuples are immutable and lists are the same in every way except two: tuples use parentheses instead of square brackets and the items in tuples cannot be modified but the items in lists can be modified.\n"
      ],
      "metadata": {
        "id": "Re4cfqHOGz8E"
      },
      "execution_count": null,
      "outputs": []
    },
    {
      "cell_type": "code",
      "source": [
        "#7.\tWhat is the difference between “==” and “is” operators in Python?\n",
        "#Ans= Operators are special symbols or keywords that are used to carry out specific actions on numbers or variables in Python expressions. The “==” and “is” operators are used for comparison, but they do different actions.\n",
        "“==” (Equality Operator)- This operator compares the values of two objects. It checks if the content or data of the objects is the same.\n",
        "“Is”(Identity Operator)- Is operator checks if two variables refer to the exact same object in memory. The operator checks for object identity.\n"
      ],
      "metadata": {
        "id": "rI51_PFzG9pN"
      },
      "execution_count": null,
      "outputs": []
    },
    {
      "cell_type": "code",
      "source": [
        "#8.\tWhat are logical operators in Python?\n",
        "#Ans= Logical operators in Python are used to combine conditional statements and check Boolean values are True or False. They are used for guiding program by giving multiple conditions. There are three types of operators and, or, not.\n",
        "#Example- if both condition is True then it will give True, if both condition are False then it will give False.\n"
      ],
      "metadata": {
        "id": "_23blAJuHE51"
      },
      "execution_count": null,
      "outputs": []
    },
    {
      "cell_type": "code",
      "source": [
        "#9.\tWhat is type casting in Python?\n",
        "#Ans= Type casting is used to converting a value from one data type to another and is a type conversion and the process of changing one data type to another in Python. Python provides built-in functions for type casting such as int(), float(), str(), list(), tuple(), dict(), etc. Type casting is used for performing arithmetic operations, data manipulation, and input/output operations in Python programs.Common used explicit type casting are-\n",
        "int(): Converts a value to an integer.\n",
        "float(): Converts a value to a floating-point number.\n",
        "str(): Converts a value to a string.\n",
        "bool(): Converts a value to a boolean.\n"
      ],
      "metadata": {
        "id": "E4QbA1wdHL_E"
      },
      "execution_count": null,
      "outputs": []
    },
    {
      "cell_type": "code",
      "source": [
        "#10.\tWhat is the difference between implicit and explicit type casting?\n",
        "#Ans=  Implicit casting occurs when the compiler automatically converts a smaller data type to a larger one without explicit instructions from the programmer, while explicit casting requires the programmer to explicitly specify the type conversion using a cast operator. Implicit type casting is done during expressions or operations and data is not lost and no manual code needed. While in explicit type casting is done by the programmer, it is helpful when control is need .\n"
      ],
      "metadata": {
        "id": "1BtogaG7HPPd"
      },
      "execution_count": null,
      "outputs": []
    },
    {
      "cell_type": "code",
      "source": [
        "#11.\tWhat is the purpose of conditional statements in Python?\n",
        "#Ans= Conditionals in Python are used to execute code based on the evaluation of one or more conditions. Python supports conditional statements such as if, elif (else if), and else to control the flow of execution. Conditionals can be nested to handle multiple conditions and control different branches of execution based on the outcome of logical expressions. The purpose of conditional statements in Python is to control the flow of execution whether the conditions are meeting. It enable programs to make decisions and perform different actions depending on the outcome of a logical evaluation.\n"
      ],
      "metadata": {
        "id": "hb2IbCG2HUlI"
      },
      "execution_count": null,
      "outputs": []
    },
    {
      "cell_type": "code",
      "source": [
        "#11.\tWhat is the purpose of conditional statements in Python?\n",
        "#Ans= Conditionals in Python are used to execute code based on the evaluation of one or more conditions. Python supports conditional statements such as if, elif (else if), and else to control the flow of execution. Conditionals can be nested to handle multiple conditions and control different branches of execution based on the outcome of logical expressions. The purpose of conditional statements in Python is to control the flow of execution whether the conditions are meeting. It enable programs to make decisions and perform different actions depending on the outcome of a logical evaluation.\n"
      ],
      "metadata": {
        "id": "Tl6zK0zaHXpB"
      },
      "execution_count": null,
      "outputs": []
    },
    {
      "cell_type": "code",
      "source": [
        "#11.\tWhat is the purpose of conditional statements in Python?\n",
        "#Ans= Conditionals in Python are used to execute code based on the evaluation of one or more conditions. Python supports conditional statements such as if, elif (else if), and else to control the flow of execution. Conditionals can be nested to handle multiple conditions and control different branches of execution based on the outcome of logical expressions. The purpose of conditional statements in Python is to control the flow of execution whether the conditions are meeting. It enable programs to make decisions and perform different actions depending on the outcome of a logical evaluation.\n"
      ],
      "metadata": {
        "id": "TdzwfwT9Hazc"
      },
      "execution_count": null,
      "outputs": []
    },
    {
      "cell_type": "code",
      "source": [
        "#14.\tDescribe a scenario where a while loop is more suitable than a for loop.\n",
        "#Ans= “For” loops are used for iterating over a sequence of elements, while “while” loops are used for executing code until a specified condition becomes False. For Example-\n",
        "Condition to run till it comes to true\n",
        " n = 7\n",
        "i = 1\n",
        "While i < n:\n",
        "Print(i)\n",
        "i = i+1\n",
        "Out come=\n",
        "1\n",
        "2\n",
        "3\n",
        "4\n",
        " 5\n",
        "6\n",
        "Run until the loop is completed. But it is not the same with for loop. So while loop is considered to be more suitable.\n"
      ],
      "metadata": {
        "id": "qSiM346KHdLK"
      },
      "execution_count": null,
      "outputs": []
    }
  ]
}